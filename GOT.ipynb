{
 "cells": [
  {
   "cell_type": "code",
   "execution_count": 1,
   "metadata": {
    "collapsed": false
   },
   "outputs": [
    {
     "name": "stdout",
     "output_type": "stream",
     "text": [
      "Populating the interactive namespace from numpy and matplotlib\n"
     ]
    }
   ],
   "source": [
    "import warnings\n",
    "warnings.filterwarnings('ignore')\n",
    "import numpy as np\n",
    "import pandas as pd\n",
    "\n",
    "%pylab inline\n",
    "\n",
    "from __future__ import division\n",
    "import numpy as np\n",
    "from sklearn.ensemble import RandomForestClassifier\n",
    "\n",
    "import seaborn as sns\n",
    "from sklearn import metrics\n",
    "import itertools"
   ]
  },
  {
   "cell_type": "code",
   "execution_count": 2,
   "metadata": {
    "collapsed": false
   },
   "outputs": [
    {
     "data": {
      "text/html": [
       "<div>\n",
       "<table border=\"1\" class=\"dataframe\">\n",
       "  <thead>\n",
       "    <tr style=\"text-align: right;\">\n",
       "      <th></th>\n",
       "      <th>Unnamed: 0</th>\n",
       "      <th>Name</th>\n",
       "      <th>Family</th>\n",
       "      <th>Born</th>\n",
       "      <th>Sigil</th>\n",
       "      <th>Serves</th>\n",
       "      <th>Known As</th>\n",
       "      <th>Occupation</th>\n",
       "      <th>Relation</th>\n",
       "      <th>Death</th>\n",
       "    </tr>\n",
       "  </thead>\n",
       "  <tbody>\n",
       "    <tr>\n",
       "      <th>0</th>\n",
       "      <td>AGOT</td>\n",
       "      <td>001 Prologue</td>\n",
       "      <td>NaN</td>\n",
       "      <td>NaN</td>\n",
       "      <td>NaN</td>\n",
       "      <td>NaN</td>\n",
       "      <td>NaN</td>\n",
       "      <td>NaN</td>\n",
       "      <td>NaN</td>\n",
       "      <td>NaN</td>\n",
       "    </tr>\n",
       "    <tr>\n",
       "      <th>1</th>\n",
       "      <td>NaN</td>\n",
       "      <td>Gared</td>\n",
       "      <td>NaN</td>\n",
       "      <td>NaN</td>\n",
       "      <td>NaN</td>\n",
       "      <td>image(\"http://awoiaf.westeros.org/images/4/47/...</td>\n",
       "      <td>NaN</td>\n",
       "      <td>Castle Black ranger</td>\n",
       "      <td>NaN</td>\n",
       "      <td>Killed by Eddard Stark at a northern holdfast</td>\n",
       "    </tr>\n",
       "    <tr>\n",
       "      <th>2</th>\n",
       "      <td>Ser</td>\n",
       "      <td>Waymar</td>\n",
       "      <td>Royce</td>\n",
       "      <td>image(\"http://awoiaf.westeros.org/images/e/ed/...</td>\n",
       "      <td>image(\"http://awoiaf.westeros.org/images/e/ed/...</td>\n",
       "      <td>image(\"http://awoiaf.westeros.org/images/4/47/...</td>\n",
       "      <td>NaN</td>\n",
       "      <td>Castle Black ranger</td>\n",
       "      <td>Yohn's Son</td>\n",
       "      <td>Killed by Others north of the Wall</td>\n",
       "    </tr>\n",
       "    <tr>\n",
       "      <th>3</th>\n",
       "      <td>NaN</td>\n",
       "      <td>Will</td>\n",
       "      <td>NaN</td>\n",
       "      <td>NaN</td>\n",
       "      <td>NaN</td>\n",
       "      <td>image(\"http://awoiaf.westeros.org/images/4/47/...</td>\n",
       "      <td>NaN</td>\n",
       "      <td>Castle Black ranger</td>\n",
       "      <td>NaN</td>\n",
       "      <td>Killed by a wight (Ser Waymar Royce) north of ...</td>\n",
       "    </tr>\n",
       "    <tr>\n",
       "      <th>4</th>\n",
       "      <td>Commander</td>\n",
       "      <td>Jeor</td>\n",
       "      <td>Mormont</td>\n",
       "      <td>image(\"http://awoiaf.westeros.org/images/c/c9/...</td>\n",
       "      <td>image(\"http://awoiaf.westeros.org/images/c/c9/...</td>\n",
       "      <td>image(\"http://awoiaf.westeros.org/images/4/47/...</td>\n",
       "      <td>Lord Crow, Old Bear</td>\n",
       "      <td>Lord Commander of the Night's Watch, Lord of B...</td>\n",
       "      <td>NaN</td>\n",
       "      <td>Killed by Ollo Lophand at Craster's Keep</td>\n",
       "    </tr>\n",
       "  </tbody>\n",
       "</table>\n",
       "</div>"
      ],
      "text/plain": [
       "  Unnamed: 0          Name   Family  \\\n",
       "0       AGOT  001 Prologue      NaN   \n",
       "1        NaN         Gared      NaN   \n",
       "2        Ser        Waymar    Royce   \n",
       "3        NaN          Will      NaN   \n",
       "4  Commander          Jeor  Mormont   \n",
       "\n",
       "                                                Born  \\\n",
       "0                                                NaN   \n",
       "1                                                NaN   \n",
       "2  image(\"http://awoiaf.westeros.org/images/e/ed/...   \n",
       "3                                                NaN   \n",
       "4  image(\"http://awoiaf.westeros.org/images/c/c9/...   \n",
       "\n",
       "                                               Sigil  \\\n",
       "0                                                NaN   \n",
       "1                                                NaN   \n",
       "2  image(\"http://awoiaf.westeros.org/images/e/ed/...   \n",
       "3                                                NaN   \n",
       "4  image(\"http://awoiaf.westeros.org/images/c/c9/...   \n",
       "\n",
       "                                              Serves             Known As  \\\n",
       "0                                                NaN                  NaN   \n",
       "1  image(\"http://awoiaf.westeros.org/images/4/47/...                  NaN   \n",
       "2  image(\"http://awoiaf.westeros.org/images/4/47/...                  NaN   \n",
       "3  image(\"http://awoiaf.westeros.org/images/4/47/...                  NaN   \n",
       "4  image(\"http://awoiaf.westeros.org/images/4/47/...  Lord Crow, Old Bear   \n",
       "\n",
       "                                          Occupation    Relation  \\\n",
       "0                                                NaN         NaN   \n",
       "1                                Castle Black ranger         NaN   \n",
       "2                                Castle Black ranger  Yohn's Son   \n",
       "3                                Castle Black ranger         NaN   \n",
       "4  Lord Commander of the Night's Watch, Lord of B...         NaN   \n",
       "\n",
       "                                               Death  \n",
       "0                                                NaN  \n",
       "1      Killed by Eddard Stark at a northern holdfast  \n",
       "2                 Killed by Others north of the Wall  \n",
       "3  Killed by a wight (Ser Waymar Royce) north of ...  \n",
       "4           Killed by Ollo Lophand at Craster's Keep  "
      ]
     },
     "execution_count": 2,
     "metadata": {},
     "output_type": "execute_result"
    }
   ],
   "source": [
    "# read data\n",
    "data = pd.read_csv('data3.csv', sep=\";\" ) \n",
    "\n",
    "data.head()"
   ]
  },
  {
   "cell_type": "code",
   "execution_count": 3,
   "metadata": {
    "collapsed": false
   },
   "outputs": [],
   "source": [
    "# remove NaN from Name field\n",
    "data[\"Name\"].fillna(\"other\", inplace=True)"
   ]
  },
  {
   "cell_type": "code",
   "execution_count": 4,
   "metadata": {
    "collapsed": false
   },
   "outputs": [],
   "source": [
    "# add POV field to each row\n",
    "import re\n",
    "pattern = re.compile(\"[0-9][0-9][0-9]\")\n",
    "\n",
    "POV = []\n",
    "pov_name = \"other\"\n",
    "for row in data['Name']:\n",
    "    POV.append(pov_name)\n",
    "    string = str(row)\n",
    "    #print string\n",
    "    if (pattern.match(string) == None) == False:\n",
    "        pov_name = row[4:]    \n",
    "data['POV'] = POV\n"
   ]
  },
  {
   "cell_type": "code",
   "execution_count": 5,
   "metadata": {
    "collapsed": true
   },
   "outputs": [],
   "source": [
    "# make Occupation lower case to easier manipulation\n",
    "data['Occupation'] = data['Occupation'].str.lower()\n",
    "\n",
    "# remove chapter names\n",
    "pattern = r'[0-9][0-9][0-9]'\n",
    "data = data[data.Name.str.contains(pattern) == False]\n",
    "\n",
    "# remove historical characters\n",
    "pattern = r'Historical'\n",
    "data = data[data.Death.str.contains(pattern) == False]\n",
    "\n",
    "# remove character without family name\n",
    "data = data[pd.isnull(data['Family']) == False]"
   ]
  },
  {
   "cell_type": "code",
   "execution_count": 6,
   "metadata": {
    "collapsed": false
   },
   "outputs": [
    {
     "name": "stdout",
     "output_type": "stream",
     "text": [
      "# check number of NaN's\n",
      "Unnamed: 0, num. NA's: 70\n",
      "Name, num. NA's: 0\n",
      "Family, num. NA's: 0\n",
      "Born, num. NA's: 36\n",
      "Sigil, num. NA's: 23\n",
      "Serves, num. NA's: 35\n",
      "Known As, num. NA's: 174\n",
      "Occupation, num. NA's: 73\n",
      "Relation, num. NA's: 147\n",
      "Death, num. NA's: 0\n",
      "POV, num. NA's: 0\n",
      " \n",
      "# fill NaN with other\n",
      "Unnamed: 0, num. NA's: 0\n",
      "Name, num. NA's: 0\n",
      "Family, num. NA's: 0\n",
      "Born, num. NA's: 0\n",
      "Sigil, num. NA's: 0\n",
      "Serves, num. NA's: 0\n",
      "Known As, num. NA's: 0\n",
      "Occupation, num. NA's: 0\n",
      "Relation, num. NA's: 0\n",
      "Death, num. NA's: 0\n",
      "POV, num. NA's: 0\n"
     ]
    }
   ],
   "source": [
    "# check number of NaN's\n",
    "cols = []\n",
    "print \"# check number of NaN's\"\n",
    "for col in data.columns:\n",
    "    print(\"{0}, num. NA's: {1}\".format(col, pd.isnull(data[col]).sum()))\n",
    "    if pd.isnull(data[col]).sum() > 0:\n",
    "        cols.append(col)\n",
    "        \n",
    "# fill NaN with other\n",
    "print \" \"\n",
    "print \"# fill NaN with other\"\n",
    "for col in cols:\n",
    "    data[col].fillna(\"other\", inplace=True)\n",
    "\n",
    "for col in data.columns:\n",
    "    print(\"{0}, num. NA's: {1}\".format(col, pd.isnull(data[col]).sum()))"
   ]
  },
  {
   "cell_type": "code",
   "execution_count": 7,
   "metadata": {
    "collapsed": false
   },
   "outputs": [
    {
     "data": {
      "text/html": [
       "<div>\n",
       "<table border=\"1\" class=\"dataframe\">\n",
       "  <thead>\n",
       "    <tr style=\"text-align: right;\">\n",
       "      <th></th>\n",
       "      <th>count</th>\n",
       "      <th>unique</th>\n",
       "      <th>top</th>\n",
       "      <th>freq</th>\n",
       "    </tr>\n",
       "  </thead>\n",
       "  <tbody>\n",
       "    <tr>\n",
       "      <th>Unnamed: 0</th>\n",
       "      <td>231</td>\n",
       "      <td>11</td>\n",
       "      <td>other</td>\n",
       "      <td>70</td>\n",
       "    </tr>\n",
       "    <tr>\n",
       "      <th>Name</th>\n",
       "      <td>231</td>\n",
       "      <td>199</td>\n",
       "      <td>other</td>\n",
       "      <td>15</td>\n",
       "    </tr>\n",
       "    <tr>\n",
       "      <th>Family</th>\n",
       "      <td>231</td>\n",
       "      <td>129</td>\n",
       "      <td>Greyjoy</td>\n",
       "      <td>9</td>\n",
       "    </tr>\n",
       "    <tr>\n",
       "      <th>Born</th>\n",
       "      <td>231</td>\n",
       "      <td>107</td>\n",
       "      <td>other</td>\n",
       "      <td>36</td>\n",
       "    </tr>\n",
       "    <tr>\n",
       "      <th>Sigil</th>\n",
       "      <td>231</td>\n",
       "      <td>110</td>\n",
       "      <td>other</td>\n",
       "      <td>23</td>\n",
       "    </tr>\n",
       "    <tr>\n",
       "      <th>Serves</th>\n",
       "      <td>231</td>\n",
       "      <td>24</td>\n",
       "      <td>other</td>\n",
       "      <td>35</td>\n",
       "    </tr>\n",
       "    <tr>\n",
       "      <th>Known As</th>\n",
       "      <td>231</td>\n",
       "      <td>58</td>\n",
       "      <td>other</td>\n",
       "      <td>174</td>\n",
       "    </tr>\n",
       "    <tr>\n",
       "      <th>Occupation</th>\n",
       "      <td>231</td>\n",
       "      <td>136</td>\n",
       "      <td>other</td>\n",
       "      <td>73</td>\n",
       "    </tr>\n",
       "    <tr>\n",
       "      <th>Relation</th>\n",
       "      <td>231</td>\n",
       "      <td>60</td>\n",
       "      <td>other</td>\n",
       "      <td>147</td>\n",
       "    </tr>\n",
       "    <tr>\n",
       "      <th>Death</th>\n",
       "      <td>231</td>\n",
       "      <td>160</td>\n",
       "      <td>Killed by Lannisters at the Battle of the Blac...</td>\n",
       "      <td>10</td>\n",
       "    </tr>\n",
       "    <tr>\n",
       "      <th>POV</th>\n",
       "      <td>231</td>\n",
       "      <td>24</td>\n",
       "      <td>Catelyn</td>\n",
       "      <td>43</td>\n",
       "    </tr>\n",
       "  </tbody>\n",
       "</table>\n",
       "</div>"
      ],
      "text/plain": [
       "           count unique                                                top  \\\n",
       "Unnamed: 0   231     11                                              other   \n",
       "Name         231    199                                              other   \n",
       "Family       231    129                                            Greyjoy   \n",
       "Born         231    107                                              other   \n",
       "Sigil        231    110                                              other   \n",
       "Serves       231     24                                              other   \n",
       "Known As     231     58                                              other   \n",
       "Occupation   231    136                                              other   \n",
       "Relation     231     60                                              other   \n",
       "Death        231    160  Killed by Lannisters at the Battle of the Blac...   \n",
       "POV          231     24                                            Catelyn   \n",
       "\n",
       "           freq  \n",
       "Unnamed: 0   70  \n",
       "Name         15  \n",
       "Family        9  \n",
       "Born         36  \n",
       "Sigil        23  \n",
       "Serves       35  \n",
       "Known As    174  \n",
       "Occupation   73  \n",
       "Relation    147  \n",
       "Death        10  \n",
       "POV          43  "
      ]
     },
     "execution_count": 7,
     "metadata": {},
     "output_type": "execute_result"
    }
   ],
   "source": [
    "# describe data\n",
    "data.describe().T"
   ]
  },
  {
   "cell_type": "code",
   "execution_count": 8,
   "metadata": {
    "collapsed": true
   },
   "outputs": [],
   "source": [
    "# create target funtion y = killed\n",
    "pattern = r'Killed'\n",
    "y = data.Death.str.contains(pattern)\n",
    "data[\"killed\"] = y"
   ]
  },
  {
   "cell_type": "code",
   "execution_count": 9,
   "metadata": {
    "collapsed": false
   },
   "outputs": [
    {
     "data": {
      "text/plain": [
       "0.73593073593073588"
      ]
     },
     "execution_count": 9,
     "metadata": {},
     "output_type": "execute_result"
    }
   ],
   "source": [
    "# Percent of killed characted\n",
    "sum(y)/y.size"
   ]
  },
  {
   "cell_type": "code",
   "execution_count": 10,
   "metadata": {
    "collapsed": false
   },
   "outputs": [],
   "source": [
    "# Create features\n",
    "\n",
    "data[\"sex\"] = -1\n",
    "\n",
    "pattern = r'Son' #[0-9][0-9]'\n",
    "data.sex[data.Relation.str.contains(pattern)] = 0\n",
    "pattern = r'Daughter'\n",
    "data.sex[data.Relation.str.contains(pattern)] = 1\n",
    "\n",
    "\n",
    "data[\"hasNickname\"] = 1 * (data[\"Known As\"] != \"other\")\n",
    "data[\"prince\"] = data.Occupation.str.contains(r'prince')\n",
    "data[\"master-at-arms\"] = data.Occupation.str.contains(r'master-at-arms')\n",
    "data[\"guard\"] = data.Occupation.str.contains(r'guard')\n",
    "data[\"ranger\"] = data.Occupation.str.contains(r'ranger')\n",
    "data[\"hand\"] = data.Occupation.str.contains(r'hand')\n",
    "data[\"squire\"] = data.Occupation.str.contains(r'squire')\n",
    "data[\"warden\"] = data.Occupation.str.contains(r'warden')\n"
   ]
  },
  {
   "cell_type": "code",
   "execution_count": 11,
   "metadata": {
    "collapsed": false
   },
   "outputs": [],
   "source": [
    "# get new features\n",
    "jobs = pd.Series(' '.join(data['Occupation']).lower().split()).value_counts()[1:20]\n",
    "for row in jobs.index:\n",
    "    data[row] = data.Occupation.str.contains(row) * 1\n",
    "   "
   ]
  },
  {
   "cell_type": "code",
   "execution_count": 12,
   "metadata": {
    "collapsed": false
   },
   "outputs": [],
   "source": [
    "# create features and make dummy variables\n",
    "data.sex[(data[\"sex\"] == -1) & (data[\"Unnamed: 0\"] == \"Ser\")] = 0\n",
    "data.sex[(data[\"sex\"] == -1) & (data[\"Unnamed: 0\"] == \"Lord\")] = 0\n",
    "data.sex[(data[\"sex\"] == -1) & (data[\"Unnamed: 0\"] == \"King\")] = 0\n",
    "data.sex[(data[\"sex\"] == -1) & (data[\"Unnamed: 0\"] == \"Commander\")] = 0\n",
    "data.sex[(data[\"guard\"] == 1)] = 0\n",
    "data.sex[(data[\"ranger\"] == 1)] = 0\n",
    "data.sex[(data[\"hand\"] == 1)] = 0\n",
    "data.sex[(data[\"squire\"] == 1)] = 0\n",
    "data.sex[(data[\"warden\"] == 1)] = 0\n",
    "\n",
    "\n",
    "features_to_use = ['Unnamed: 0','Family', 'Born','Sigil','Serves', 'POV', 'sex']\n",
    "features_to_use.extend(jobs.index)\n",
    "\n",
    "\n",
    "data_dummies = data[features_to_use]\n",
    "data_dummies = pd.get_dummies(data_dummies)\n",
    "\n",
    "\n",
    "data.sex[(data[\"sex\"] == -1) & (data[\"Unnamed: 0\"] == \"Lady\")] = 1\n",
    "data.sex[(data[\"sex\"] == -1) & (data[\"Unnamed: 0\"] == \"Princess\")] = 1\n",
    "\n",
    "data_dummies[\"hasNickname\"] = data[\"hasNickname\"]\n",
    "data_dummies[\"prince\"] = data[\"prince\"]\n",
    "data_dummies[\"master-at-arms\"] = data[\"master-at-arms\"]\n",
    "data_dummies[\"guard\"] = data[\"guard\"]\n",
    "data_dummies[\"ranger\"] = data[\"ranger\"]\n",
    "data_dummies[\"hand\"] = data[\"hand\"]\n",
    "data_dummies[\"squire\"] = data[\"squire\"]\n",
    "data_dummies[\"warden\"] = data[\"warden\"]"
   ]
  },
  {
   "cell_type": "code",
   "execution_count": 13,
   "metadata": {
    "collapsed": false
   },
   "outputs": [],
   "source": [
    "# select major family\n",
    "df = data.groupby(['Family'])['Family'].count() > 4\n",
    "major_family = df[df == True].index"
   ]
  },
  {
   "cell_type": "code",
   "execution_count": 14,
   "metadata": {
    "collapsed": false
   },
   "outputs": [
    {
     "data": {
      "text/plain": [
       "<matplotlib.text.Text at 0xa408a58>"
      ]
     },
     "execution_count": 14,
     "metadata": {},
     "output_type": "execute_result"
    },
    {
     "data": {
      "image/png": "[encoded data removed]",
      "text/plain": [
       "<matplotlib.figure.Figure at 0xa25f198>"
      ]
     },
     "metadata": {},
     "output_type": "display_data"
    }
   ],
   "source": [
    "# plot data\n",
    "df_deaths = data[data.Family.isin(major_family)].groupby(['Family'])['killed'].mean()\n",
    "df_deaths.index = data[data.Family.isin(major_family)].groupby(['Family'])['Family'].count().index\n",
    "\n",
    "df_deaths.sort_values(ascending=False)[0:20].plot.bar()\n",
    "plt.subplot(1,1,1)  # if use subplot\n",
    "plt.title('Houses are not looking well: killing odds in major Houses')"
   ]
  },
  {
   "cell_type": "code",
   "execution_count": 15,
   "metadata": {
    "collapsed": false
   },
   "outputs": [
    {
     "name": "stdout",
     "output_type": "stream",
     "text": [
      "Family\n",
      "Greyjoy      9\n",
      "Lannister    8\n",
      "Frey         8\n",
      "Targaryen    7\n",
      "Stark        6\n",
      "Tarth        5\n",
      "Seaworth     5\n",
      "Martell      5\n",
      "Hollard      5\n",
      "Darry        5\n",
      "Arryn        5\n",
      "Name: killed, dtype: int64\n"
     ]
    },
    {
     "data": {
      "text/plain": [
       "<matplotlib.text.Text at 0xaacec88>"
      ]
     },
     "execution_count": 15,
     "metadata": {},
     "output_type": "execute_result"
    },
    {
     "data": {
      "image/png": "[encoded data removed]",
      "text/plain": [
       "<matplotlib.figure.Figure at 0xaa22a58>"
      ]
     },
     "metadata": {},
     "output_type": "display_data"
    }
   ],
   "source": [
    "# plot death count\n",
    "df_deaths = data[data.Family.isin(major_family)].groupby(['Family'])['killed'].count()\n",
    "df_deaths.index = data[data.Family.isin(major_family)].groupby(['Family'])['Family'].count().index\n",
    "\n",
    "print df_deaths.sort_values(ascending=False)[0:20]\n",
    "df_deaths.sort_values(ascending=False)[0:20].plot.bar()\n",
    "plt.subplot(1,1,1)  # if use subplot\n",
    "plt.title('Kill count in major Houses')"
   ]
  },
  {
   "cell_type": "code",
   "execution_count": 16,
   "metadata": {
    "collapsed": false
   },
   "outputs": [
    {
     "data": {
      "text/plain": [
       "<matplotlib.text.Text at 0xae53d30>"
      ]
     },
     "execution_count": 16,
     "metadata": {},
     "output_type": "execute_result"
    },
    {
     "data": {
      "image/png": "[encoded data removed]",
      "text/plain": [
       "<matplotlib.figure.Figure at 0xa302278>"
      ]
     },
     "metadata": {},
     "output_type": "display_data"
    }
   ],
   "source": [
    "# plot data\n",
    "sns.stripplot(x=\"Unnamed: 0\", y=\"killed\", data=data, jitter=True)\n",
    "sns.plt.title('Queens are never die!')"
   ]
  },
  {
   "cell_type": "code",
   "execution_count": 17,
   "metadata": {
    "collapsed": false
   },
   "outputs": [
    {
     "data": {
      "text/plain": [
       "<matplotlib.text.Text at 0xb2ace10>"
      ]
     },
     "execution_count": 17,
     "metadata": {},
     "output_type": "execute_result"
    },
    {
     "data": {
      "image/png": "[encoded data removed]",
      "text/plain": [
       "<matplotlib.figure.Figure at 0xaecbb00>"
      ]
     },
     "metadata": {},
     "output_type": "display_data"
    }
   ],
   "source": [
    "# plot data vs jobs\n",
    "df_deaths = data.groupby(['Unnamed: 0'])['killed'].mean()\n",
    "df_deaths.index = data.groupby(['Unnamed: 0'])['Unnamed: 0'].count().index\n",
    "\n",
    "df_deaths.sort_values(ascending=False)[0:20].plot.bar()\n",
    "plt.subplot(1,1,1)  # if use subplot\n",
    "plt.title('Better not to be a princess')"
   ]
  },
  {
   "cell_type": "code",
   "execution_count": 18,
   "metadata": {
    "collapsed": false
   },
   "outputs": [
    {
     "name": "stdout",
     "output_type": "stream",
     "text": [
      "0.260869565217\n"
     ]
    }
   ],
   "source": [
    "y = y * 1\n",
    "from sklearn.cross_validation import train_test_split\n",
    "train_df, test_df, y_df_train, y_df_test = train_test_split(\n",
    "    data_dummies, y, test_size=0.5, random_state=42)\n",
    "\n",
    "train_df   = pd.DataFrame(data=train_df)\n",
    "test_df    = pd.DataFrame(data=test_df)\n",
    "\n",
    "print 1- sum(y_df_train) / y_df_train.size"
   ]
  },
  {
   "cell_type": "code",
   "execution_count": 19,
   "metadata": {
    "collapsed": false
   },
   "outputs": [
    {
     "name": "stdout",
     "output_type": "stream",
     "text": [
      "100\n",
      "300\n",
      "500\n",
      "[0.79115353037766822, 0.80008210180623962, 0.80901067323481124]\n",
      "[100, 300, 500]\n"
     ]
    }
   ],
   "source": [
    "from sklearn import metrics\n",
    "from sklearn import cross_validation\n",
    "\n",
    "n_values = np.arange(100, 700, 200)\n",
    "\n",
    "scores = []\n",
    "n_outs = []\n",
    "for n_value in n_values:\n",
    "    print n_value    \n",
    "    RF = RandomForestClassifier(n_estimators=n_value, n_jobs=-1, criterion='gini'\n",
    "                            #\n",
    "                            , random_state = 42 , max_depth=12\n",
    "                            , min_samples_split = 2\n",
    "                           ) \n",
    "\n",
    "    score = cross_validation.cross_val_score(RF, train_df, y_df_train,\n",
    "        cv=4, scoring='accuracy')\n",
    "    \n",
    "    scores.append(score.mean())\n",
    "    n_outs.append(n_value)\n",
    "print scores\n",
    "print n_outs"
   ]
  },
  {
   "cell_type": "code",
   "execution_count": 26,
   "metadata": {
    "collapsed": false,
    "scrolled": true
   },
   "outputs": [
    {
     "data": {
      "image/png": "[encoded data removed]",
      "text/plain": [
       "<matplotlib.figure.Figure at 0xae49240>"
      ]
     },
     "metadata": {},
     "output_type": "display_data"
    }
   ],
   "source": [
    "RF = RandomForestClassifier(n_estimators=1500, n_jobs=-1, criterion='gini'\n",
    "                        , random_state = 42 \n",
    "                        , max_depth=12\n",
    "                        , min_samples_split = 2\n",
    "                       )\n",
    "\n",
    "# Code from documentation\n",
    "# http://scikit-learn.org/stable/auto_examples/ensemble/plot_forest_importances.html\n",
    "\n",
    "RF.fit(train_df,y_df_train)\n",
    "X = train_df\n",
    "\n",
    "\n",
    "importances = RF.feature_importances_\n",
    "std = np.std([tree.feature_importances_ for tree in RF.estimators_],\n",
    "             axis=0)\n",
    "indices = np.argsort(importances)[::-1]\n",
    "\n",
    "# Print the feature ranking\n",
    "#print(\"Feature ranking:\")\n",
    "\n",
    "#for f in range(X.shape[1]):\n",
    "    #print(\"%d. feature %d (%f)\" % (f + 1, indices[f], importances[indices[f]]))\n",
    "\n",
    "# Plot the feature importances of the forest\n",
    "plt.figure()\n",
    "plt.title(\"Feature importances\")\n",
    "plt.bar(range(X.shape[1]), importances[indices],\n",
    "       color=\"r\", yerr=std[indices], align=\"center\")\n",
    "plt.xticks(range(X.shape[1]), indices)\n",
    "plt.xlim([-1, X.shape[1]])\n",
    "plt.show()"
   ]
  },
  {
   "cell_type": "code",
   "execution_count": 21,
   "metadata": {
    "collapsed": false
   },
   "outputs": [
    {
     "name": "stdout",
     "output_type": "stream",
     "text": [
      "0.939130434783\n"
     ]
    },
    {
     "data": {
      "text/plain": [
       "array([[23,  7],\n",
       "       [ 0, 85]])"
      ]
     },
     "execution_count": 21,
     "metadata": {},
     "output_type": "execute_result"
    }
   ],
   "source": [
    "from sklearn.metrics import accuracy_score\n",
    "from sklearn.metrics import confusion_matrix\n",
    "\n",
    "# train results\n",
    "y_pred =  RF.predict(train_df)\n",
    "y_true = y_df_train.values\n",
    "print accuracy_score(y_true, y_pred)\n",
    "\n",
    "confusion_matrix(y_true, y_pred)"
   ]
  },
  {
   "cell_type": "code",
   "execution_count": 22,
   "metadata": {
    "collapsed": false
   },
   "outputs": [
    {
     "name": "stdout",
     "output_type": "stream",
     "text": [
      "0.758620689655\n",
      "Naive accuracy: 0.73275862069\n"
     ]
    }
   ],
   "source": [
    "# test results\n",
    "y_pred =  RF.predict(test_df)\n",
    "y_true = y_df_test.values\n",
    "print accuracy_score(y_true, y_pred)\n",
    "print \"Naive accuracy: \" + str(sum(y_true) / y_true.size)"
   ]
  },
  {
   "cell_type": "code",
   "execution_count": 23,
   "metadata": {
    "collapsed": false
   },
   "outputs": [
    {
     "data": {
      "text/plain": [
       "array([[ 3, 28],\n",
       "       [ 0, 85]])"
      ]
     },
     "execution_count": 23,
     "metadata": {},
     "output_type": "execute_result"
    }
   ],
   "source": [
    "confusion_matrix(y_true, y_pred)"
   ]
  },
  {
   "cell_type": "code",
   "execution_count": 24,
   "metadata": {
    "collapsed": false
   },
   "outputs": [
    {
     "data": {
      "text/plain": [
       "0.70132827324478186"
      ]
     },
     "execution_count": 24,
     "metadata": {},
     "output_type": "execute_result"
    }
   ],
   "source": [
    "from sklearn.metrics import roc_auc_score\n",
    "\n",
    "y_scores = RF.predict_proba(test_df)[:,1]\n",
    "roc_auc_score(y_true, y_scores)"
   ]
  },
  {
   "cell_type": "code",
   "execution_count": 25,
   "metadata": {
    "collapsed": false
   },
   "outputs": [
    {
     "data": {
      "image/png": "[encoded data removed]",
      "text/plain": [
       "<matplotlib.figure.Figure at 0xc7d39e8>"
      ]
     },
     "metadata": {},
     "output_type": "display_data"
    }
   ],
   "source": [
    "from sklearn.metrics import roc_curve, auc\n",
    "import matplotlib.pyplot as plt\n",
    "actual = y_true\n",
    "predictions = RF.predict_proba(test_df)[:,1]\n",
    "\n",
    "false_positive_rate, true_positive_rate, thresholds = roc_curve(actual, predictions)\n",
    "roc_auc = auc(false_positive_rate, true_positive_rate)\n",
    "\n",
    "plt.title('Receiver Operating Characteristic')\n",
    "plt.plot(false_positive_rate, true_positive_rate, 'b',\n",
    "label='AUC = %0.2f'% roc_auc)\n",
    "plt.legend(loc='lower right')\n",
    "plt.plot([0,1],[0,1],'r--')\n",
    "plt.xlim([-0.1,1.2])\n",
    "plt.ylim([-0.1,1.2])\n",
    "plt.ylabel('True Positive Rate')\n",
    "plt.xlabel('False Positive Rate')\n",
    "plt.show()"
   ]
  }
 ],
 "metadata": {
  "kernelspec": {
   "display_name": "Python 2",
   "language": "python",
   "name": "python2"
  },
  "language_info": {
   "codemirror_mode": {
    "name": "ipython",
    "version": 2
   },
   "file_extension": ".py",
   "mimetype": "text/x-python",
   "name": "python",
   "nbconvert_exporter": "python",
   "pygments_lexer": "ipython2",
   "version": "2.7.11"
  }
 },
 "nbformat": 4,
 "nbformat_minor": 0
}
